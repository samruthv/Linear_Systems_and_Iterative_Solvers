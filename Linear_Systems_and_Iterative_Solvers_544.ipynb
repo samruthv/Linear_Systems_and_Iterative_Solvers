{
 "cells": [
  {
   "cell_type": "markdown",
   "metadata": {},
   "source": [
    "# Programming Assignment - 4\n",
    "---\n",
    "## Name: Samruth Vennapusala\n"
   ]
  },
  {
   "cell_type": "code",
   "execution_count": 24,
   "metadata": {},
   "outputs": [],
   "source": [
    "# Import required packages\n",
    "import numpy as np"
   ]
  },
  {
   "cell_type": "code",
   "execution_count": 2,
   "metadata": {},
   "outputs": [],
   "source": [
    "# You can modify this code to answer the following\n",
    "'''\n",
    "Jacobi's iteration method for solving the system of equations Ax=b.\n",
    "p0 is the initialization for the iteration.\n",
    "'''\n",
    "def jacobi(A, b, p0, tol, maxIter=100):\n",
    "    n=len(A)\n",
    "    p = p0\n",
    "\n",
    "    for k in range(maxIter):\n",
    "        p_old = p.copy() # In python assignment is not the same as copy\n",
    "        \n",
    "        # Update every component of iterant p\n",
    "        for i in range(n):\n",
    "            sumi = b[i];\n",
    "            for j in range(n):\n",
    "                if i==j: # Diagonal elements are not included in Jacobi\n",
    "                    continue;\n",
    "                sumi = sumi - A[i,j] * p_old[j]\n",
    "            p[i] = sumi/A[i,i]\n",
    "                \n",
    "        rel_error = np.linalg.norm(p-p_old)/n\n",
    "        # print(\"Relative error in iteration\", k+1,\":\",rel_error)\n",
    "        if rel_error<tol:\n",
    "            print(\"TOLERANCE MET BEFORE MAX-ITERATION\")\n",
    "            break\n",
    "    return p;"
   ]
  },
  {
   "cell_type": "code",
   "execution_count": 3,
   "metadata": {},
   "outputs": [],
   "source": [
    "# Example System\n",
    "A = np.array([[10, -1, 2, 0],\n",
    "              [-1, 11, -1, 3],\n",
    "              [2, -1, 10, -1],\n",
    "              [0, 3, -1, 8]],dtype=float)\n",
    "b = np.array([6, 25, -11, 15],dtype=float)\n"
   ]
  },
  {
   "cell_type": "code",
   "execution_count": 4,
   "metadata": {},
   "outputs": [
    {
     "name": "stdout",
     "output_type": "stream",
     "text": [
      "TOLERANCE MET BEFORE MAX-ITERATION\n",
      "The solution is:  [ 1.00000003  1.99999996 -0.99999997  0.99999995]\n"
     ]
    }
   ],
   "source": [
    "## What will happen if the followign code runs\n",
    "#x = jacobi(A,b, np.array([0,0,0,0]),0.00001, 100)\n",
    "\n",
    "x = jacobi(A,b, np.array([0,0,0,0],dtype=float),0.0000001, 100)\n",
    "print(\"The solution is: \",x)"
   ]
  },
  {
   "cell_type": "markdown",
   "metadata": {},
   "source": [
    ">- (A) Implement the Gauss-Siedel Iteration in Python.  Solve the following system by using this method. Exact answer is (1,2,-1,1). Stopping criteria could be a relative $error < 0.00001$.\n",
    "$$\n",
    "\\begin{pmatrix}\n",
    "10 & -1  & 2  & 0  \\\\\n",
    "-1 & 11&-1 & 3 \\\\\n",
    "2 & -1  & 10  & -1 \\\\\n",
    "0 & 3 & -1 & 8  \n",
    "\\end{pmatrix}\n",
    "\\begin{pmatrix}\n",
    "x_1\\\\x_2\\\\x_3\\\\x_4 \n",
    "\\end{pmatrix}\n",
    "=\n",
    "\\begin{pmatrix}\n",
    "6\\\\25\\\\-11\\\\15\n",
    "\\end{pmatrix}\n",
    "$$\n"
   ]
  },
  {
   "cell_type": "code",
   "execution_count": 9,
   "metadata": {},
   "outputs": [],
   "source": [
    "# Your code here\n",
    "def gauss_seidel(A, b, tol, max_iterations=100):\n",
    "    x = np.zeros_like(b, dtype=np.double)\n",
    "    #Iterate\n",
    "    for k in range(max_iterations):\n",
    "        x_old  = x.copy()\n",
    "        #Loop over rows\n",
    "        for i in range(A.shape[0]):\n",
    "            x[i] = (b[i] - np.dot(A[i,:i], x[:i]) - np.dot(A[i,(i+1):], x_old[(i+1):])) / A[i ,i] \n",
    "        #Stop condition \n",
    "        if np.linalg.norm(x - x_old, ord=np.inf) / np.linalg.norm(x, ord=np.inf) < tol:\n",
    "            break\n",
    "    return x"
   ]
  },
  {
   "cell_type": "code",
   "execution_count": 10,
   "metadata": {},
   "outputs": [],
   "source": [
    "A = np.array([[10, -1, 2, 0],\n",
    "              [-1, 11, -1, 3],\n",
    "              [2, -1, 10, -1],\n",
    "              [0, 3, -1, 8]],dtype=float)\n",
    "b = np.array([6, 25, -11, 15],dtype=float)\n"
   ]
  },
  {
   "cell_type": "code",
   "execution_count": 11,
   "metadata": {},
   "outputs": [
    {
     "name": "stdout",
     "output_type": "stream",
     "text": [
      "The solution is:  [ 1.00000067  2.00000002 -1.00000021  0.99999996]\n"
     ]
    }
   ],
   "source": [
    "x = gauss_seidel(A,b,0.00001, 100)\n",
    "print(\"The solution is: \",x)"
   ]
  },
  {
   "cell_type": "markdown",
   "metadata": {},
   "source": [
    ">- (B) Implement Successive Over-relaxation in Python and solve the above problem again with $\\omega=1.5$."
   ]
  },
  {
   "cell_type": "code",
   "execution_count": 55,
   "metadata": {},
   "outputs": [],
   "source": [
    "# Your code here\n",
    "import scipy.linalg as la\n",
    "def SOR(A,b,x0,tol, maxIter,omega):\n",
    "    D=np.diag(np.diag(A))\n",
    "    M=np.dot((1/omega),D)+np.tril(A,-1)\n",
    "    N=M-A\n",
    "    r=np.dot(A,x0)-b\n",
    "    x=x0\n",
    "    i=0\n",
    "    err=1+tol\n",
    "    res=[]\n",
    "    while((i< maxIter) and ((la.norm(r))>=tol)):\n",
    "        x=np.dot(np.dot((la.inv(M)),N),x)+np.dot((la.inv(M)),b)\n",
    "        r=np.dot(A,x)-b\n",
    "        err = la.norm(r,2)\n",
    "        res.append(err)\n",
    "        i=i+1\n",
    "    return x"
   ]
  },
  {
   "cell_type": "code",
   "execution_count": 56,
   "metadata": {},
   "outputs": [],
   "source": [
    "A = np.array([[10, -1, 2, 0],\n",
    "              [-1, 11, -1, 3],\n",
    "              [2, -1, 10, -1],\n",
    "              [0, 3, -1, 8]],dtype=float)\n",
    "b = np.array([6, 25, -11, 15],dtype=float)\n"
   ]
  },
  {
   "cell_type": "code",
   "execution_count": 57,
   "metadata": {},
   "outputs": [
    {
     "name": "stdout",
     "output_type": "stream",
     "text": [
      "The solution is:  [ 1.00000038  2.00000048 -1.00000035  1.00000015]\n"
     ]
    }
   ],
   "source": [
    "x = SOR(A,b, np.array([0,0,0,0],dtype=float),0.00001, 100,1.5)\n",
    "print(\"The solution is: \",x)"
   ]
  }
 ],
 "metadata": {
  "kernelspec": {
   "display_name": "Python 3",
   "language": "python",
   "name": "python3"
  },
  "language_info": {
   "codemirror_mode": {
    "name": "ipython",
    "version": 3
   },
   "file_extension": ".py",
   "mimetype": "text/x-python",
   "name": "python",
   "nbconvert_exporter": "python",
   "pygments_lexer": "ipython3",
   "version": "3.7.6"
  }
 },
 "nbformat": 4,
 "nbformat_minor": 4
}
